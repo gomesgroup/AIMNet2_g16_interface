{
 "cells": [
  {
   "cell_type": "code",
   "execution_count": 1,
   "metadata": {},
   "outputs": [],
   "source": [
    "import torch\n",
    "# import numpy as np\n",
    "from ase import Atoms\n",
    "# from ase.units import Hartree\n",
    "# from ase.vibrations import Vibrations\n",
    "# from aimnet2_ase_opt import optimize, get_dipole_moment, get_charges\n",
    "from aimnet2ase import AIMNet2Calculator\n"
   ]
  },
  {
   "cell_type": "code",
   "execution_count": 2,
   "metadata": {},
   "outputs": [],
   "source": [
    "\n",
    "# Load your trained model\n",
    "model_path = '/home/passos/AIMNet2/models/aimnet2_wb97m-d3_ens.jpt'\n",
    "\n",
    "model = torch.jit.load(model_path)\n",
    "\n",
    "# Create the calculator\n",
    "calc = AIMNet2Calculator(model)\n"
   ]
  },
  {
   "cell_type": "code",
   "execution_count": 3,
   "metadata": {},
   "outputs": [],
   "source": [
    "\n",
    "# Define the molecule\n",
    "# mol_CO2 = Atoms('CO2', positions=[[-0.0220,  0.0000,  0.0000], \n",
    "#                                [ 1.1621,  0.0000,  0.0000],\n",
    "#                                [-1.1841,  0.0000,  0.0000]])\n",
    "\n",
    "# mol_CO2 = Atoms('CO2', positions=[[-0.0220,  0.0000,  0.0000], \n",
    "#                                [ 1.1621,  0.0000,  0.0000],\n",
    "#                                [-1.1841,  0.0000,  0.0000]])\n",
    "\n",
    "from ase.io import read\n",
    "\n",
    "# Load molecule from .xyz file\n",
    "mol_CO2 = read('MeOH.xyz')\n",
    "\n",
    "\n",
    "# Set the calculator\n",
    "mol_CO2.set_calculator(calc)"
   ]
  },
  {
   "cell_type": "code",
   "execution_count": 4,
   "metadata": {},
   "outputs": [],
   "source": [
    "# Calculate energy, forces, charges, dipole moment\n",
    "energy_CO2 = mol_CO2.get_potential_energy()\n",
    "forces_CO2 = mol_CO2.get_forces()\n",
    "\n",
    "dipole_CO2 = calc.get_dipole_moment(mol_CO2)\n"
   ]
  },
  {
   "cell_type": "code",
   "execution_count": 5,
   "metadata": {},
   "outputs": [],
   "source": [
    "# hessian_CO2 = calc.get_hessian(mol_CO2)\n",
    "\n"
   ]
  },
  {
   "cell_type": "code",
   "execution_count": 6,
   "metadata": {},
   "outputs": [
    {
     "name": "stdout",
     "output_type": "stream",
     "text": [
      "Error calculating frequencies: index 3 is out of bounds for axis 0 with size 3\n"
     ]
    }
   ],
   "source": [
    "frequencies_CO2 = calc.get_frequencies(mol_CO2)\n"
   ]
  },
  {
   "cell_type": "code",
   "execution_count": 7,
   "metadata": {},
   "outputs": [
    {
     "data": {
      "text/plain": [
       "[]"
      ]
     },
     "execution_count": 7,
     "metadata": {},
     "output_type": "execute_result"
    }
   ],
   "source": [
    "frequencies_CO2"
   ]
  },
  {
   "cell_type": "code",
   "execution_count": null,
   "metadata": {},
   "outputs": [],
   "source": [
    "vib_CO2 = calc.get_vibrational_modes(mol_CO2)"
   ]
  },
  {
   "cell_type": "code",
   "execution_count": 8,
   "metadata": {},
   "outputs": [
    {
     "data": {
      "text/plain": [
       "array([-1.01388352e+02, -8.20994283e+01, -7.97549096e+01, -6.75527401e+01,\n",
       "       -3.57032860e+01, -1.93882841e+01, -1.31721145e+01, -1.27940234e+01,\n",
       "       -9.10445762e+00, -8.91209442e+00, -5.64027901e+00, -1.54377807e+00,\n",
       "       -1.84394022e-01, -4.62774061e-02, -5.14587860e-04,  3.98095985e-04,\n",
       "        5.93239999e-04,  1.10345892e-01])"
      ]
     },
     "execution_count": 8,
     "metadata": {},
     "output_type": "execute_result"
    }
   ],
   "source": [
    "vib_CO2"
   ]
  },
  {
   "cell_type": "code",
   "execution_count": null,
   "metadata": {},
   "outputs": [],
   "source": []
  }
 ],
 "metadata": {
  "kernelspec": {
   "display_name": "aimnet",
   "language": "python",
   "name": "python3"
  },
  "language_info": {
   "codemirror_mode": {
    "name": "ipython",
    "version": 3
   },
   "file_extension": ".py",
   "mimetype": "text/x-python",
   "name": "python",
   "nbconvert_exporter": "python",
   "pygments_lexer": "ipython3",
   "version": "3.9.19"
  }
 },
 "nbformat": 4,
 "nbformat_minor": 2
}
